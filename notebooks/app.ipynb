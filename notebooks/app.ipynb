{
  "cells": [
    {
      "cell_type": "code",
      "execution_count": null,
      "metadata": {
        "colab": {
          "base_uri": "https://localhost:8080/"
        },
        "id": "TnDMulMqfSj_",
        "outputId": "42018219-8d25-4bc4-f34d-7218a90f9815"
      },
      "outputs": [],
      "source": [
        "!pip install flask flask-ngrok flask-cors openai-whisper transformers accelerate bitsandbytes sentencepiece dotenv pyngrok\n",
        "!apt-get install ffmpeg"
      ]
    },
    {
      "cell_type": "code",
      "execution_count": null,
      "metadata": {
        "id": "jIBnKW7St26g"
      },
      "outputs": [],
      "source": [
        "from utils import *\n",
        "from flask import Flask, request, jsonify\n",
        "from flask_cors import CORS\n",
        "from flask_ngrok import run_with_ngrok\n",
        "import whisper\n",
        "import re, json, os\n",
        "from transformers import pipeline, AutoTokenizer, AutoModelForCausalLM, BitsAndBytesConfig\n",
        "from dotenv import load_dotenv\n",
        "from huggingface_hub.hf_api import HfFolder\n",
        "from pyngrok import ngrok\n",
        "from collections import defaultdict"
      ]
    },
    {
      "cell_type": "code",
      "execution_count": null,
      "metadata": {
        "id": "eSB4MioMBXhp"
      },
      "outputs": [],
      "source": [
        "load_dotenv()\n",
        "hf_token = os.getenv(\"HF_TOKEN\")\n",
        "ng_token = os.getenv(\"NG_TOKEN\")\n",
        "HfFolder.save_token(hf_token)\n",
        "ngrok.set_auth_token(ng_token)"
      ]
    },
    {
      "cell_type": "code",
      "execution_count": null,
      "metadata": {
        "colab": {
          "base_uri": "https://localhost:8080/"
        },
        "id": "Syh9VR9VABh8",
        "outputId": "bbfa597d-3169-4264-bfb1-7eb17d71a9f0"
      },
      "outputs": [],
      "source": [
        "public_url = ngrok.connect(5000)\n",
        "print(\"🔥 Public URL:\", public_url)"
      ]
    },
    {
      "cell_type": "code",
      "execution_count": null,
      "metadata": {
        "colab": {
          "base_uri": "https://localhost:8080/"
        },
        "id": "bxPcR98wt5XD",
        "outputId": "3a5c86d3-0b64-4d75-e90f-d3696d4a9ef9"
      },
      "outputs": [],
      "source": [
        "config = get_config()\n",
        "app = Flask(__name__)\n",
        "CORS(app)\n",
        "# run_with_ngrok(app)"
      ]
    },
    {
      "cell_type": "code",
      "execution_count": null,
      "metadata": {
        "id": "MdGoQMbouMKQ"
      },
      "outputs": [],
      "source": [
        "audio_model = whisper.load_model(config[\"audio\"][\"model_name\"])\n",
        "llm_model_name = config[\"llm\"][\"model_name\"]"
      ]
    },
    {
      "cell_type": "code",
      "execution_count": null,
      "metadata": {
        "colab": {
          "base_uri": "https://localhost:8080/",
          "height": 190,
          "referenced_widgets": [
            "21ddd8fa88e241edbec7faff1f5230aa",
            "f36dc92efa604047958525ac2ed30ec1",
            "0a53bcbc821342cf8f2f53e268af84e2",
            "65a81ce54d204b8787ee4c43cee08d3b",
            "17fa3041c1564ff5b47f1d18879bc1af",
            "76bbaddfc8dc4e1690b212477911631d",
            "2ce91227b5754dd595640969398ef105",
            "cb067336de84444eaa4ef6dc6ae22f03",
            "ac982129b5ec4b99a1896f1674c7712b",
            "57f0aa717cc445e6a877d276bbf39846",
            "e888627652454e59861ac752f4417de6"
          ]
        },
        "id": "WrUbpviGuNbL",
        "outputId": "d379c9b0-b748-4e84-e067-40a479005cda"
      },
      "outputs": [],
      "source": [
        "bnb_config = BitsAndBytesConfig(\n",
        "    load_in_4bit=True,\n",
        "    bnb_4bit_quant_type=\"nf4\",\n",
        "    bnb_4bit_use_double_quant=True,\n",
        "    bnb_4bit_compute_dtype=\"float16\"\n",
        ")\n",
        "\n",
        "tokenizer = AutoTokenizer.from_pretrained(llm_model_name)\n",
        "llm_model = AutoModelForCausalLM.from_pretrained(\n",
        "    llm_model_name,\n",
        "    device_map=\"auto\",\n",
        "    quantization_config=bnb_config\n",
        ")\n",
        "\n",
        "llm_pipeline = pipeline(\"text-generation\", model=llm_model, tokenizer=tokenizer)"
      ]
    },
    {
      "cell_type": "code",
      "execution_count": null,
      "metadata": {
        "id": "UsqPbdosG6bS"
      },
      "outputs": [],
      "source": [
        "@app.route(\"/events\", methods=[\"GET\"])\n",
        "def get_calendar_events():\n",
        "    calendar_path = \"calendar.json\"\n",
        "    if not os.path.exists(calendar_path):\n",
        "        return jsonify({})\n",
        "\n",
        "    with open(calendar_path, \"r\") as f:\n",
        "        calendar_data = json.load(f)\n",
        "\n",
        "    print(f\"Calendar data: {calendar_data}\")\n",
        "\n",
        "    return jsonify(calendar_data)"
      ]
    },
    {
      "cell_type": "code",
      "execution_count": null,
      "metadata": {
        "id": "q9cV9222uPs7"
      },
      "outputs": [],
      "source": [
        "@app.route(\"/transcribe\", methods=[\"POST\"])\n",
        "def transcribe_audio_route():\n",
        "    file = request.files.get(\"file\")\n",
        "    if not file:\n",
        "        return jsonify({\"error\": \"No audio file provided\"}), 400\n",
        "\n",
        "    filepath = \"temp_audio.webm\"\n",
        "    file.save(filepath)\n",
        "\n",
        "    wav_path = \"converted_audio.wav\"\n",
        "    os.system(f\"ffmpeg -y -i {filepath} -ar 16000 -ac 1 {wav_path}\")\n",
        "\n",
        "    transcribed_text = transcribe_audio(audio_model, wav_path)\n",
        "\n",
        "    response = llm_pipeline(\n",
        "        build_prompt(transcribed_text),\n",
        "        max_new_tokens=config[\"llm\"][\"max_new_tokens\"],\n",
        "        do_sample=False\n",
        "    )[0][\"generated_text\"]\n",
        "\n",
        "    json_block = re.search(r'\\{.*?\\}', response, re.DOTALL)\n",
        "    json_output = json.loads(json_block.group(0)) if json_block else {}\n",
        "\n",
        "    # updated_output = update_date_from_message(json_output, transcribed_text)\n",
        "    updated_output = json_output\n",
        "    updated_output[\"transcript\"] = transcribed_text\n",
        "\n",
        "    calendar_path = \"calendar.json\"\n",
        "    date_key = updated_output[\"date\"]\n",
        "\n",
        "    if os.path.exists(calendar_path):\n",
        "        with open(calendar_path, \"r\") as f:\n",
        "            calendar_data = json.load(f)\n",
        "    else:\n",
        "        calendar_data = {}\n",
        "\n",
        "    if date_key not in calendar_data:\n",
        "        calendar_data[date_key] = []\n",
        "\n",
        "    calendar_data[date_key].append({\n",
        "        \"person\": updated_output[\"person\"],\n",
        "        \"time\": updated_output[\"time\"],\n",
        "        \"purpose\": updated_output[\"purpose\"],\n",
        "        \"transcript\": updated_output[\"transcript\"]\n",
        "    })\n",
        "\n",
        "    with open(calendar_path, \"w\") as f:\n",
        "        json.dump(calendar_data, f, indent=2)\n",
        "\n",
        "    return jsonify(updated_output)"
      ]
    },
    {
      "cell_type": "code",
      "execution_count": null,
      "metadata": {
        "colab": {
          "base_uri": "https://localhost:8080/"
        },
        "id": "gDssGEb5uR51",
        "outputId": "b1edca24-1711-4663-cab6-7f89c39f3672"
      },
      "outputs": [],
      "source": [
        "app.run(host=\"0.0.0.0\", port=5000)"
      ]
    },
    {
      "cell_type": "code",
      "execution_count": null,
      "metadata": {
        "id": "Xknmew1kugrQ"
      },
      "outputs": [],
      "source": []
    }
  ],
  "metadata": {
    "accelerator": "GPU",
    "colab": {
      "gpuType": "T4",
      "provenance": []
    },
    "kernelspec": {
      "display_name": "Python 3",
      "name": "python3"
    },
    "language_info": {
      "name": "python"
    },
    "widgets": {
      "application/vnd.jupyter.widget-state+json": {
        "0a53bcbc821342cf8f2f53e268af84e2": {
          "model_module": "@jupyter-widgets/controls",
          "model_module_version": "1.5.0",
          "model_name": "FloatProgressModel",
          "state": {
            "_dom_classes": [],
            "_model_module": "@jupyter-widgets/controls",
            "_model_module_version": "1.5.0",
            "_model_name": "FloatProgressModel",
            "_view_count": null,
            "_view_module": "@jupyter-widgets/controls",
            "_view_module_version": "1.5.0",
            "_view_name": "ProgressView",
            "bar_style": "success",
            "description": "",
            "description_tooltip": null,
            "layout": "IPY_MODEL_cb067336de84444eaa4ef6dc6ae22f03",
            "max": 4,
            "min": 0,
            "orientation": "horizontal",
            "style": "IPY_MODEL_ac982129b5ec4b99a1896f1674c7712b",
            "value": 4
          }
        },
        "17fa3041c1564ff5b47f1d18879bc1af": {
          "model_module": "@jupyter-widgets/base",
          "model_module_version": "1.2.0",
          "model_name": "LayoutModel",
          "state": {
            "_model_module": "@jupyter-widgets/base",
            "_model_module_version": "1.2.0",
            "_model_name": "LayoutModel",
            "_view_count": null,
            "_view_module": "@jupyter-widgets/base",
            "_view_module_version": "1.2.0",
            "_view_name": "LayoutView",
            "align_content": null,
            "align_items": null,
            "align_self": null,
            "border": null,
            "bottom": null,
            "display": null,
            "flex": null,
            "flex_flow": null,
            "grid_area": null,
            "grid_auto_columns": null,
            "grid_auto_flow": null,
            "grid_auto_rows": null,
            "grid_column": null,
            "grid_gap": null,
            "grid_row": null,
            "grid_template_areas": null,
            "grid_template_columns": null,
            "grid_template_rows": null,
            "height": null,
            "justify_content": null,
            "justify_items": null,
            "left": null,
            "margin": null,
            "max_height": null,
            "max_width": null,
            "min_height": null,
            "min_width": null,
            "object_fit": null,
            "object_position": null,
            "order": null,
            "overflow": null,
            "overflow_x": null,
            "overflow_y": null,
            "padding": null,
            "right": null,
            "top": null,
            "visibility": null,
            "width": null
          }
        },
        "21ddd8fa88e241edbec7faff1f5230aa": {
          "model_module": "@jupyter-widgets/controls",
          "model_module_version": "1.5.0",
          "model_name": "HBoxModel",
          "state": {
            "_dom_classes": [],
            "_model_module": "@jupyter-widgets/controls",
            "_model_module_version": "1.5.0",
            "_model_name": "HBoxModel",
            "_view_count": null,
            "_view_module": "@jupyter-widgets/controls",
            "_view_module_version": "1.5.0",
            "_view_name": "HBoxView",
            "box_style": "",
            "children": [
              "IPY_MODEL_f36dc92efa604047958525ac2ed30ec1",
              "IPY_MODEL_0a53bcbc821342cf8f2f53e268af84e2",
              "IPY_MODEL_65a81ce54d204b8787ee4c43cee08d3b"
            ],
            "layout": "IPY_MODEL_17fa3041c1564ff5b47f1d18879bc1af"
          }
        },
        "2ce91227b5754dd595640969398ef105": {
          "model_module": "@jupyter-widgets/controls",
          "model_module_version": "1.5.0",
          "model_name": "DescriptionStyleModel",
          "state": {
            "_model_module": "@jupyter-widgets/controls",
            "_model_module_version": "1.5.0",
            "_model_name": "DescriptionStyleModel",
            "_view_count": null,
            "_view_module": "@jupyter-widgets/base",
            "_view_module_version": "1.2.0",
            "_view_name": "StyleView",
            "description_width": ""
          }
        },
        "57f0aa717cc445e6a877d276bbf39846": {
          "model_module": "@jupyter-widgets/base",
          "model_module_version": "1.2.0",
          "model_name": "LayoutModel",
          "state": {
            "_model_module": "@jupyter-widgets/base",
            "_model_module_version": "1.2.0",
            "_model_name": "LayoutModel",
            "_view_count": null,
            "_view_module": "@jupyter-widgets/base",
            "_view_module_version": "1.2.0",
            "_view_name": "LayoutView",
            "align_content": null,
            "align_items": null,
            "align_self": null,
            "border": null,
            "bottom": null,
            "display": null,
            "flex": null,
            "flex_flow": null,
            "grid_area": null,
            "grid_auto_columns": null,
            "grid_auto_flow": null,
            "grid_auto_rows": null,
            "grid_column": null,
            "grid_gap": null,
            "grid_row": null,
            "grid_template_areas": null,
            "grid_template_columns": null,
            "grid_template_rows": null,
            "height": null,
            "justify_content": null,
            "justify_items": null,
            "left": null,
            "margin": null,
            "max_height": null,
            "max_width": null,
            "min_height": null,
            "min_width": null,
            "object_fit": null,
            "object_position": null,
            "order": null,
            "overflow": null,
            "overflow_x": null,
            "overflow_y": null,
            "padding": null,
            "right": null,
            "top": null,
            "visibility": null,
            "width": null
          }
        },
        "65a81ce54d204b8787ee4c43cee08d3b": {
          "model_module": "@jupyter-widgets/controls",
          "model_module_version": "1.5.0",
          "model_name": "HTMLModel",
          "state": {
            "_dom_classes": [],
            "_model_module": "@jupyter-widgets/controls",
            "_model_module_version": "1.5.0",
            "_model_name": "HTMLModel",
            "_view_count": null,
            "_view_module": "@jupyter-widgets/controls",
            "_view_module_version": "1.5.0",
            "_view_name": "HTMLView",
            "description": "",
            "description_tooltip": null,
            "layout": "IPY_MODEL_57f0aa717cc445e6a877d276bbf39846",
            "placeholder": "​",
            "style": "IPY_MODEL_e888627652454e59861ac752f4417de6",
            "value": " 4/4 [01:37&lt;00:00, 20.84s/it]"
          }
        },
        "76bbaddfc8dc4e1690b212477911631d": {
          "model_module": "@jupyter-widgets/base",
          "model_module_version": "1.2.0",
          "model_name": "LayoutModel",
          "state": {
            "_model_module": "@jupyter-widgets/base",
            "_model_module_version": "1.2.0",
            "_model_name": "LayoutModel",
            "_view_count": null,
            "_view_module": "@jupyter-widgets/base",
            "_view_module_version": "1.2.0",
            "_view_name": "LayoutView",
            "align_content": null,
            "align_items": null,
            "align_self": null,
            "border": null,
            "bottom": null,
            "display": null,
            "flex": null,
            "flex_flow": null,
            "grid_area": null,
            "grid_auto_columns": null,
            "grid_auto_flow": null,
            "grid_auto_rows": null,
            "grid_column": null,
            "grid_gap": null,
            "grid_row": null,
            "grid_template_areas": null,
            "grid_template_columns": null,
            "grid_template_rows": null,
            "height": null,
            "justify_content": null,
            "justify_items": null,
            "left": null,
            "margin": null,
            "max_height": null,
            "max_width": null,
            "min_height": null,
            "min_width": null,
            "object_fit": null,
            "object_position": null,
            "order": null,
            "overflow": null,
            "overflow_x": null,
            "overflow_y": null,
            "padding": null,
            "right": null,
            "top": null,
            "visibility": null,
            "width": null
          }
        },
        "ac982129b5ec4b99a1896f1674c7712b": {
          "model_module": "@jupyter-widgets/controls",
          "model_module_version": "1.5.0",
          "model_name": "ProgressStyleModel",
          "state": {
            "_model_module": "@jupyter-widgets/controls",
            "_model_module_version": "1.5.0",
            "_model_name": "ProgressStyleModel",
            "_view_count": null,
            "_view_module": "@jupyter-widgets/base",
            "_view_module_version": "1.2.0",
            "_view_name": "StyleView",
            "bar_color": null,
            "description_width": ""
          }
        },
        "cb067336de84444eaa4ef6dc6ae22f03": {
          "model_module": "@jupyter-widgets/base",
          "model_module_version": "1.2.0",
          "model_name": "LayoutModel",
          "state": {
            "_model_module": "@jupyter-widgets/base",
            "_model_module_version": "1.2.0",
            "_model_name": "LayoutModel",
            "_view_count": null,
            "_view_module": "@jupyter-widgets/base",
            "_view_module_version": "1.2.0",
            "_view_name": "LayoutView",
            "align_content": null,
            "align_items": null,
            "align_self": null,
            "border": null,
            "bottom": null,
            "display": null,
            "flex": null,
            "flex_flow": null,
            "grid_area": null,
            "grid_auto_columns": null,
            "grid_auto_flow": null,
            "grid_auto_rows": null,
            "grid_column": null,
            "grid_gap": null,
            "grid_row": null,
            "grid_template_areas": null,
            "grid_template_columns": null,
            "grid_template_rows": null,
            "height": null,
            "justify_content": null,
            "justify_items": null,
            "left": null,
            "margin": null,
            "max_height": null,
            "max_width": null,
            "min_height": null,
            "min_width": null,
            "object_fit": null,
            "object_position": null,
            "order": null,
            "overflow": null,
            "overflow_x": null,
            "overflow_y": null,
            "padding": null,
            "right": null,
            "top": null,
            "visibility": null,
            "width": null
          }
        },
        "e888627652454e59861ac752f4417de6": {
          "model_module": "@jupyter-widgets/controls",
          "model_module_version": "1.5.0",
          "model_name": "DescriptionStyleModel",
          "state": {
            "_model_module": "@jupyter-widgets/controls",
            "_model_module_version": "1.5.0",
            "_model_name": "DescriptionStyleModel",
            "_view_count": null,
            "_view_module": "@jupyter-widgets/base",
            "_view_module_version": "1.2.0",
            "_view_name": "StyleView",
            "description_width": ""
          }
        },
        "f36dc92efa604047958525ac2ed30ec1": {
          "model_module": "@jupyter-widgets/controls",
          "model_module_version": "1.5.0",
          "model_name": "HTMLModel",
          "state": {
            "_dom_classes": [],
            "_model_module": "@jupyter-widgets/controls",
            "_model_module_version": "1.5.0",
            "_model_name": "HTMLModel",
            "_view_count": null,
            "_view_module": "@jupyter-widgets/controls",
            "_view_module_version": "1.5.0",
            "_view_name": "HTMLView",
            "description": "",
            "description_tooltip": null,
            "layout": "IPY_MODEL_76bbaddfc8dc4e1690b212477911631d",
            "placeholder": "​",
            "style": "IPY_MODEL_2ce91227b5754dd595640969398ef105",
            "value": "Loading checkpoint shards: 100%"
          }
        }
      }
    }
  },
  "nbformat": 4,
  "nbformat_minor": 0
}
